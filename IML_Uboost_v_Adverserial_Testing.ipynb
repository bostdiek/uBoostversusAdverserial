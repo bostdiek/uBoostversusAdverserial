{
 "cells": [
  {
   "cell_type": "markdown",
   "metadata": {
    "toc": "true"
   },
   "source": [
    "# Table of Contents\n",
    " <p><div class=\"lev1 toc-item\"><a href=\"#Introduction\" data-toc-modified-id=\"Introduction-1\"><span class=\"toc-item-num\">1&nbsp;&nbsp;</span>Introduction</a></div><div class=\"lev1 toc-item\"><a href=\"#uBoost-example\" data-toc-modified-id=\"uBoost-example-2\"><span class=\"toc-item-num\">2&nbsp;&nbsp;</span>uBoost example</a></div><div class=\"lev2 toc-item\"><a href=\"#Load-the-data\" data-toc-modified-id=\"Load-the-data-21\"><span class=\"toc-item-num\">2.1&nbsp;&nbsp;</span>Load the data</a></div><div class=\"lev2 toc-item\"><a href=\"#Initial-view-of-the-data\" data-toc-modified-id=\"Initial-view-of-the-data-22\"><span class=\"toc-item-num\">2.2&nbsp;&nbsp;</span>Initial view of the data</a></div><div class=\"lev2 toc-item\"><a href=\"#Prepare-the-data-for-machine-learning\" data-toc-modified-id=\"Prepare-the-data-for-machine-learning-23\"><span class=\"toc-item-num\">2.3&nbsp;&nbsp;</span>Prepare the data for machine learning</a></div><div class=\"lev1 toc-item\"><a href=\"#Learning-to-pivot-example\" data-toc-modified-id=\"Learning-to-pivot-example-3\"><span class=\"toc-item-num\">3&nbsp;&nbsp;</span>Learning to pivot example</a></div><div class=\"lev2 toc-item\"><a href=\"#Prepare-data\" data-toc-modified-id=\"Prepare-data-31\"><span class=\"toc-item-num\">3.1&nbsp;&nbsp;</span>Prepare data</a></div><div class=\"lev2 toc-item\"><a href=\"#Set-network-architecture\" data-toc-modified-id=\"Set-network-architecture-32\"><span class=\"toc-item-num\">3.2&nbsp;&nbsp;</span>Set network architecture</a></div><div class=\"lev2 toc-item\"><a href=\"#Pretraing-without-adversary\" data-toc-modified-id=\"Pretraing-without-adversary-33\"><span class=\"toc-item-num\">3.3&nbsp;&nbsp;</span>Pretraing without adversary</a></div><div class=\"lev2 toc-item\"><a href=\"#Adverserial-training-of-f-and-r\" data-toc-modified-id=\"Adverserial-training-of-f-and-r-34\"><span class=\"toc-item-num\">3.4&nbsp;&nbsp;</span>Adverserial training of f and r</a></div>"
   ]
  },
  {
   "cell_type": "markdown",
   "metadata": {},
   "source": [
    "# Introduction\n",
    "\n",
    "Recently, there have been works to show how machine learning algorithms can sculpt the shape of certain variables, which can make the systematics worse. Therefore, attempts have been made to come up with techniques to mitigate this and reduce the sculpting. In particular, this notebook will take a look at the relative performace of uBoost versus Adverserial techniques.\n",
    "\n",
    " * [uBoost](https://arxiv.org/abs/1305.7248) treats uniformity as part of the goal of the boosting of a decision tree. Code can be found [here](https://arogozhnikov.github.io/hep_ml/uboost.html).\n",
    " \n",
    " * [Learning to pivot](https://arxiv.org/abs/1611.01046) uses an adverserial network to infer the value(s) of interest from the output of the classifier. It has also been studdied in [this paper](1703.03507)\n",
    " \n",
    "This notebook is going to go through the toy models presented in each of the two papers. Once we are able to reproduce their results, we will then apply the techniques to the opposite toy models and compare their performance. "
   ]
  },
  {
   "cell_type": "code",
   "execution_count": 1,
   "metadata": {
    "collapsed": false
   },
   "outputs": [],
   "source": [
    "import numpy as np\n",
    "import pandas as pd\n",
    "from scipy.stats import norm\n",
    "from scipy.stats import poisson\n",
    "from scipy.optimize import minimize, root\n",
    "from scipy.interpolate import interp1d\n",
    "import scipy as sp\n",
    "\n",
    "from sklearn.model_selection import train_test_split\n",
    "from sklearn import metrics\n",
    "from sklearn.ensemble import GradientBoostingClassifier\n",
    "\n",
    "%matplotlib inline\n",
    "import matplotlib.mlab as ml\n",
    "import matplotlib.pyplot as plt\n",
    "from matplotlib.colors import LogNorm\n",
    "import matplotlib.colors as colors\n",
    "from matplotlib import gridspec as gs\n",
    "\n",
    "plt.rcParams.update({'font.family': 'serif',\n",
    "                     'font.serif': 'cmr10',\n",
    "                     'mathtext.fontset': 'cm',\n",
    "                     'font.size': 12,\n",
    "                     'mathtext.rm' : 'serif'\n",
    "                    })\n",
    "plt.rcParams['axes.unicode_minus']=False\n",
    "plt.rcParams['axes.labelsize']=15\n",
    "\n",
    "import ROOT as rt"
   ]
  },
  {
   "cell_type": "markdown",
   "metadata": {},
   "source": [
    "# uBoost example"
   ]
  },
  {
   "cell_type": "markdown",
   "metadata": {},
   "source": [
    "## Load the data"
   ]
  },
  {
   "cell_type": "markdown",
   "metadata": {},
   "source": [
    "The data for uBoost is in a root file. There are probably better ways to load the data, but for now, use pyRoot to build a dataframe."
   ]
  },
  {
   "cell_type": "code",
   "execution_count": 2,
   "metadata": {
    "collapsed": false
   },
   "outputs": [],
   "source": [
    "f = rt.TFile('./dalitzdata.root')\n",
    "t = f.Get('tree')\n",
    "total_length = t.GetEntries()"
   ]
  },
  {
   "cell_type": "code",
   "execution_count": 3,
   "metadata": {
    "collapsed": false
   },
   "outputs": [],
   "source": [
    "data = [['M2AB', 'M2AC', 'Y1', 'Y2', 'Y3']]\n",
    "labels = []\n",
    "for event in t:\n",
    "    tmp_data = [event.M2AB, event.M2AC, event.Y1, event.Y2, event.Y3]\n",
    "    data.append(tmp_data)\n",
    "    labels.append(event.labels)\n",
    "    \n",
    "data = pd.DataFrame(data[1:], columns=data[0])\n",
    "labels = np.array(labels)"
   ]
  },
  {
   "cell_type": "markdown",
   "metadata": {},
   "source": [
    "## Initial view of the data"
   ]
  },
  {
   "cell_type": "markdown",
   "metadata": {},
   "source": [
    "Make an initial plot of the datasets. The features that we would like to be flat are the $m^2_{AB}$ and $m^2_{AC}$, (i.e. columns 0 and 1)."
   ]
  },
  {
   "cell_type": "code",
   "execution_count": 4,
   "metadata": {
    "collapsed": false
   },
   "outputs": [
    {
     "data": {
      "image/png": "[encoded data removed]",
      "text/plain": [
       "<Figure size 720x288 with 3 Axes>"
      ]
     },
     "metadata": {},
     "output_type": "display_data"
    }
   ],
   "source": [
    "sighist, sigx, sigy = np.histogram2d(data[labels==1]['M2AB'], \n",
    "                                     data[labels==1]['M2AC'], \n",
    "                                     normed=True, \n",
    "                                     bins=[np.linspace(0,1,25), np.linspace(0,1,25)]\n",
    "                                    )\n",
    "sighist = sighist.T\n",
    "\n",
    "backhist, backx, backy = np.histogram2d(data[labels==0]['M2AB'], \n",
    "                                        data[labels==0]['M2AC'], \n",
    "                                        normed=True,\n",
    "                                        bins=[np.linspace(0,1,25), np.linspace(0,1,25)]\n",
    "                                       )\n",
    "backhist = backhist.T\n",
    "\n",
    "setvmax = max(np.max(sighist), np.max(backhist))\n",
    "setvmin = min(np.min(sighist[sighist > 0]), np.min(backhist[backhist > 0]))\n",
    "\n",
    "X, Y = np.meshgrid(sigx, sigy)\n",
    "\n",
    "#********************\n",
    "# Frame\n",
    "#********************\n",
    "\n",
    "plt.figure(figsize=(10, 4))\n",
    "gs1 = gs.GridSpec(1,2, width_ratios=[4,4.6], wspace=0.4)\n",
    "\n",
    "#********************\n",
    "# Signal\n",
    "#********************\n",
    "ax1 = plt.subplot(gs1[0])\n",
    "plt.pcolor(X, Y, sighist,\n",
    "#            vmin=setvmin, vmax=setvmax\n",
    "           norm=LogNorm(vmin=setvmin, vmax=setvmax)\n",
    "          )\n",
    "plt.text(0.5,0.9, 'Signal', ha='center')\n",
    "plt.xlabel(r'$m^2_{AB}$')\n",
    "plt.ylabel(r'$m^2_{AC}$')\n",
    "\n",
    "#********************\n",
    "# Background\n",
    "#********************\n",
    "plt.subplot(gs1[1])\n",
    "c1 = plt.pcolor(X,Y, backhist,\n",
    "#                 vmin=setvmin, vmax=setvmax\n",
    "                norm=LogNorm(vmin=setvmin, vmax=setvmax)\n",
    "               )\n",
    "plt.text(0.5,0.9, 'Background', ha='center')\n",
    "cbar1=plt.colorbar(c1)\n",
    "plt.xlabel(r'$m^2_{AB}$')\n",
    "plt.ylabel(r'$m^2_{AC}$')\n",
    "\n",
    "plt.show()"
   ]
  },
  {
   "cell_type": "markdown",
   "metadata": {},
   "source": [
    "As we can see, the background has many more events at the corner of the Dalitz plot. The goal will be to make classifier which can cut out background without sculpting the Dalitz plot."
   ]
  },
  {
   "cell_type": "markdown",
   "metadata": {},
   "source": [
    "## Prepare the data for machine learning"
   ]
  },
  {
   "cell_type": "code",
   "execution_count": 5,
   "metadata": {
    "collapsed": false
   },
   "outputs": [],
   "source": [
    "trainX, testX, trainY, testY = train_test_split(data, labels, random_state=42)"
   ]
  },
  {
   "cell_type": "code",
   "execution_count": 6,
   "metadata": {
    "collapsed": false
   },
   "outputs": [],
   "source": [
    "from sklearn.tree import DecisionTreeClassifier\n",
    "from sklearn.ensemble import GradientBoostingClassifier\n",
    "\n",
    "from hep_ml.commonutils import train_test_split\n",
    "from hep_ml import uboost, gradientboosting as ugb, losses"
   ]
  },
  {
   "cell_type": "code",
   "execution_count": 7,
   "metadata": {
    "collapsed": false
   },
   "outputs": [
    {
     "data": {
      "text/plain": [
       "DecisionTreeClassifier(class_weight=None, criterion='gini', max_depth=4,\n",
       "            max_features=None, max_leaf_nodes=None,\n",
       "            min_impurity_decrease=0.0, min_impurity_split=None,\n",
       "            min_samples_leaf=1, min_samples_split=2,\n",
       "            min_weight_fraction_leaf=0.0, presort=False, random_state=None,\n",
       "            splitter='best')"
      ]
     },
     "execution_count": 7,
     "metadata": {},
     "output_type": "execute_result"
    }
   ],
   "source": [
    "n_estimators = 150\n",
    "uniform_f=['M2AB', 'M2AC']\n",
    "train_f=['Y1', 'Y2', 'Y3']\n",
    "\n",
    "\n",
    "base_estimator = DecisionTreeClassifier(max_depth=4)\n",
    "base_estimator.fit(trainX[train_f], trainY)"
   ]
  },
  {
   "cell_type": "code",
   "execution_count": 8,
   "metadata": {
    "collapsed": false
   },
   "outputs": [],
   "source": [
    "uboost_dalitz = uboost.uBoostClassifier(uniform_features=uniform_f,\n",
    "                                        uniform_label=0,\n",
    "                                        base_estimator=base_estimator,\n",
    "                                        n_estimators=n_estimators,\n",
    "                                        train_features=train_f,\n",
    "                                        efficiency_steps=10,\n",
    "                                        n_threads=4                                        \n",
    "                                       )"
   ]
  },
  {
   "cell_type": "code",
   "execution_count": 9,
   "metadata": {
    "collapsed": false
   },
   "outputs": [
    {
     "data": {
      "text/plain": [
       "uBoostClassifier(algorithm='SAMME',\n",
       "         base_estimator=DecisionTreeClassifier(class_weight=None, criterion='gini', max_depth=4,\n",
       "            max_features=None, max_leaf_nodes=None,\n",
       "            min_impurity_decrease=0.0, min_impurity_split=None,\n",
       "            min_samples_leaf=1, min_samples_split=2,\n",
       "            min_weight_fraction_leaf=0.0, presort=False, random_state=None,\n",
       "            splitter='best'),\n",
       "         efficiency_steps=10, n_estimators=150, n_neighbors=None,\n",
       "         n_threads=4, random_state=None, smoothing=1.0, subsample=1.0,\n",
       "         train_features=['Y1', 'Y2', 'Y3'],\n",
       "         uniform_features=['M2AB', 'M2AC'], uniform_label=0)"
      ]
     },
     "execution_count": 9,
     "metadata": {},
     "output_type": "execute_result"
    }
   ],
   "source": [
    "uboost_dalitz.fit(trainX,\n",
    "                  trainY\n",
    "                 )"
   ]
  },
  {
   "cell_type": "markdown",
   "metadata": {},
   "source": [
    "We want to compare this with a base BDT classifier. Use AdaBoost from scikit-learn."
   ]
  },
  {
   "cell_type": "code",
   "execution_count": 10,
   "metadata": {
    "collapsed": false
   },
   "outputs": [
    {
     "data": {
      "text/plain": [
       "GradientBoostingClassifier(criterion='friedman_mse', init=None,\n",
       "              learning_rate=0.1, loss='deviance', max_depth=4,\n",
       "              max_features=None, max_leaf_nodes=None,\n",
       "              min_impurity_decrease=0.0, min_impurity_split=None,\n",
       "              min_samples_leaf=1, min_samples_split=2,\n",
       "              min_weight_fraction_leaf=0.0, n_estimators=150,\n",
       "              presort='auto', random_state=None, subsample=1.0, verbose=0,\n",
       "              warm_start=False)"
      ]
     },
     "execution_count": 10,
     "metadata": {},
     "output_type": "execute_result"
    }
   ],
   "source": [
    "base_ada = GradientBoostingClassifier(max_depth=4, n_estimators=n_estimators, learning_rate=0.1)\n",
    "base_ada.fit(testX[train_f], testY)"
   ]
  },
  {
   "cell_type": "markdown",
   "metadata": {},
   "source": [
    "Make the predictions and plot the results"
   ]
  },
  {
   "cell_type": "code",
   "execution_count": 11,
   "metadata": {
    "collapsed": true
   },
   "outputs": [],
   "source": [
    "uboost_preds = uboost_dalitz.predict_proba(testX)\n",
    "ada_preds = base_ada.predict_proba(testX[train_f])"
   ]
  },
  {
   "cell_type": "code",
   "execution_count": 12,
   "metadata": {
    "collapsed": false
   },
   "outputs": [],
   "source": [
    "fpr, tpr, thresholds = metrics.roc_curve(testY,\n",
    "                                         uboost_preds[:,1])\n",
    "\n",
    "fpr_ada, tpr_ada, thresholds_ada = metrics.roc_curve(testY,\n",
    "                                                     ada_preds[:,1])\n",
    "\n",
    "uboost_dalitz_score = metrics.auc(fpr, tpr)\n",
    "ada_dalitz_score = metrics.auc(fpr_ada, tpr_ada)"
   ]
  },
  {
   "cell_type": "code",
   "execution_count": 13,
   "metadata": {
    "collapsed": false
   },
   "outputs": [
    {
     "data": {
      "image/png": "[encoded data removed]",
      "text/plain": [
       "<Figure size 576x576 with 4 Axes>"
      ]
     },
     "metadata": {},
     "output_type": "display_data"
    }
   ],
   "source": [
    "plt.figure(figsize=(8,8))\n",
    "\n",
    "#********************\n",
    "# BDT Output\n",
    "#********************\n",
    "plt.subplot(2,2,1)\n",
    "plt.hist(uboost_preds[testY==1][:,1], \n",
    "#          range=(0.5,1),\n",
    "         bins=100,\n",
    "         histtype='step',\n",
    "         color='b',\n",
    "         density=True\n",
    "        )\n",
    "plt.hist(uboost_preds[testY==0][:,1], \n",
    "#          range=(0.5,1),\n",
    "         bins=100,\n",
    "         histtype='step',\n",
    "         color='g',\n",
    "         density=True\n",
    "        )\n",
    "plt.plot([],[],c='b',label='Signal')\n",
    "plt.plot([],[],c='g',label='Background')\n",
    "\n",
    "plt.legend(loc='best', frameon=False)\n",
    "plt.xlabel('uBoost classifier output')\n",
    "plt.ylabel('Normed (arbitrary units)')\n",
    "\n",
    "#********************\n",
    "# ROC Curve\n",
    "#********************\n",
    "plt.subplot(2,2,2)\n",
    "plt.plot(fpr, tpr, c='b')\n",
    "plt.xlabel('False positive rate')\n",
    "plt.ylabel('True positive rate')\n",
    "plt.xlim(0,1)\n",
    "plt.ylim(0,1)\n",
    "plt.minorticks_on()\n",
    "plt.text(0.95, 0.05, 'uBoost AUC={0:0.3f}'.format(uboost_dalitz_score), ha='right', va='bottom')\n",
    "\n",
    "#********************\n",
    "# BDT Output\n",
    "#********************\n",
    "plt.subplot(2,2,3)\n",
    "plt.hist(ada_preds[testY==1][:,1], \n",
    "#          range=(0.5,1),\n",
    "         bins=100,\n",
    "         histtype='step',\n",
    "         color='b',\n",
    "         density=True\n",
    "        )\n",
    "plt.hist(ada_preds[testY==0][:,1], \n",
    "#          range=(0.5,1),\n",
    "         bins=100,\n",
    "         histtype='step',\n",
    "         color='g',\n",
    "         density=True\n",
    "        )\n",
    "plt.plot([],[],c='b',label='Signal')\n",
    "plt.plot([],[],c='g',label='Background')\n",
    "\n",
    "plt.legend(loc='best', frameon=False)\n",
    "plt.xlabel('AdaBoost classifier output')\n",
    "plt.ylabel('Normed (arbitrary units)')\n",
    "\n",
    "#********************\n",
    "# ROC Curve\n",
    "#********************\n",
    "plt.subplot(2,2,4)\n",
    "plt.plot(fpr_ada, tpr_ada, c='b')\n",
    "plt.xlabel('False positive rate')\n",
    "plt.ylabel('True positive rate')\n",
    "plt.xlim(0,1)\n",
    "plt.ylim(0,1)\n",
    "plt.minorticks_on()\n",
    "plt.text(0.95, 0.05, 'AdaBoost AUC={0:0.3f}'.format(ada_dalitz_score), ha='right', va='bottom')\n",
    "\n",
    "plt.tight_layout(w_pad=4)"
   ]
  },
  {
   "cell_type": "markdown",
   "metadata": {},
   "source": [
    "Choose a working point that gives a signal efficiency, $\\epsilon_s = 0.7$. Then plot the dalitz plots of the signal and background that pass the selection."
   ]
  },
  {
   "cell_type": "code",
   "execution_count": 14,
   "metadata": {
    "collapsed": false
   },
   "outputs": [
    {
     "name": "stdout",
     "output_type": "stream",
     "text": [
      "Cut value is 0.701 with epsilon_s=0.700 and epsilon_b=0.065\n"
     ]
    }
   ],
   "source": [
    "cut_value = thresholds[np.argmin(np.abs(tpr - 0.7))]\n",
    "eps_s = float(sum(uboost_preds[testY==1][:,1] > cut_value)) / len(uboost_preds[testY==1])\n",
    "eps_b = float(sum(uboost_preds[testY==0][:,1] > cut_value)) / len(uboost_preds[testY==0])\n",
    "print r'Cut value is {0:0.3f} with epsilon_s={1:0.3f} and epsilon_b={2:0.3f}'.format(cut_value, eps_s, eps_b) "
   ]
  },
  {
   "cell_type": "code",
   "execution_count": 15,
   "metadata": {
    "collapsed": false
   },
   "outputs": [
    {
     "name": "stdout",
     "output_type": "stream",
     "text": [
      "Cut value is 0.836 with epsilon_s=0.700 and epsilon_b=0.041\n"
     ]
    }
   ],
   "source": [
    "cut_value_ada = thresholds_ada[np.argmin(np.abs(tpr_ada - 0.7))]\n",
    "eps_s_a = float(sum(ada_preds[testY==1][:,1] > cut_value_ada)) / len(ada_preds[testY==1])\n",
    "eps_b_a = float(sum(ada_preds[testY==0][:,1] > cut_value_ada)) / len(ada_preds[testY==0])\n",
    "print r'Cut value is {0:0.3f} with epsilon_s={1:0.3f} and epsilon_b={2:0.3f}'.format(cut_value_ada, \n",
    "                                                                                     eps_s_a, eps_b_a) "
   ]
  },
  {
   "cell_type": "code",
   "execution_count": 16,
   "metadata": {
    "collapsed": false
   },
   "outputs": [],
   "source": [
    "cut_testX = testX[uboost_preds[:,1] > cut_value]\n",
    "cut_testY = testY[uboost_preds[:,1] > cut_value]\n",
    "\n",
    "cut_testX_a = testX[ada_preds[:,1] > cut_value_ada]\n",
    "cut_testY_a = testY[ada_preds[:,1] > cut_value_ada]"
   ]
  },
  {
   "cell_type": "code",
   "execution_count": 17,
   "metadata": {
    "collapsed": false
   },
   "outputs": [
    {
     "data": {
      "image/png": "[encoded data removed]",
      "text/plain": [
       "<Figure size 720x576 with 6 Axes>"
      ]
     },
     "metadata": {},
     "output_type": "display_data"
    }
   ],
   "source": [
    "beforehist, sigx, sigy = np.histogram2d(testX[testY==1]['M2AB'],\n",
    "                                        testX[testY==1]['M2AC'],\n",
    "#                                         normed=True,\n",
    "                                        bins=[np.linspace(0,1,21), np.linspace(0,1,21)]\n",
    "                                    )\n",
    "beforehist = beforehist.T\n",
    "\n",
    "afterhist, sigx, sigy = np.histogram2d(cut_testX[cut_testY==1]['M2AB'],\n",
    "                                       cut_testX[cut_testY==1]['M2AC'],\n",
    "#                                        normed=True,\n",
    "                                       bins=[np.linspace(0,1,21), np.linspace(0,1,21)]\n",
    "                                    )\n",
    "afterhist = afterhist.T\n",
    "\n",
    "beforehistback, sigx, sigy = np.histogram2d(testX[testY==0]['M2AB'],\n",
    "                                            testX[testY==0]['M2AC'],\n",
    "#                                         normed=True,\n",
    "                                            bins=[np.linspace(0,1,21), np.linspace(0,1,21)]\n",
    "                                    )\n",
    "beforehist = beforehist.T\n",
    "\n",
    "afterhistback, sigx, sigy = np.histogram2d(cut_testX[cut_testY==0]['M2AB'],\n",
    "                                           cut_testX[cut_testY==0]['M2AC'],\n",
    "#                                        normed=True,\n",
    "                                           bins=[np.linspace(0,1,21), np.linspace(0,1,21)]\n",
    "                                    )\n",
    "afterhist = afterhist.T\n",
    "\n",
    "setvmax = max(np.max(beforehist), np.max(afterhist))\n",
    "setvmin = min(np.min(beforehist[beforehist > 0]), np.min(afterhist[afterhist > 0]))\n",
    "X, Y = np.meshgrid(sigx, sigy)\n",
    "\n",
    "#********************\n",
    "# Frame\n",
    "#********************\n",
    "\n",
    "plt.figure(figsize=(10, 8))\n",
    "gs1 = gs.GridSpec(2,2, width_ratios=[4,4.6], wspace=0.4, hspace=0.3)\n",
    "\n",
    "#********************\n",
    "# Before\n",
    "#********************\n",
    "ax1 = plt.subplot(gs1[0])\n",
    "plt.pcolor(X, Y, beforehist,\n",
    "#            vmin=setvmin, vmax=setvmax\n",
    "           norm=LogNorm(vmin=setvmin, vmax=setvmax)\n",
    "          )\n",
    "plt.text(0.5,0.9, 'Signal before cut', ha='center')\n",
    "plt.xlabel(r'$m^2_{AB}$')\n",
    "plt.ylabel(r'$m^2_{AC}$')\n",
    "\n",
    "#********************\n",
    "# After\n",
    "#********************\n",
    "plt.subplot(gs1[1])\n",
    "c1 = plt.pcolor(X,Y, afterhist,\n",
    "#                 vmin=setvmin, vmax=setvmax\n",
    "                norm=LogNorm(vmin=setvmin, vmax=setvmax)\n",
    "               )\n",
    "plt.text(0.5,0.9, 'Signal after cut', ha='center')\n",
    "cbar1=plt.colorbar(c1)\n",
    "plt.xlabel(r'$m^2_{AB}$')\n",
    "plt.ylabel(r'$m^2_{AC}$')\n",
    "\n",
    "#********************\n",
    "# Before\n",
    "#********************\n",
    "ax1 = plt.subplot(gs1[2])\n",
    "plt.pcolor(X, Y, beforehistback,\n",
    "#            vmin=setvmin, vmax=setvmax\n",
    "           norm=LogNorm(vmin=setvmin, vmax=setvmax)\n",
    "          )\n",
    "plt.text(0.5,0.9, 'Background before cut', ha='center')\n",
    "plt.xlabel(r'$m^2_{AB}$')\n",
    "plt.ylabel(r'$m^2_{AC}$')\n",
    "\n",
    "#********************\n",
    "# After\n",
    "#********************\n",
    "plt.subplot(gs1[3])\n",
    "c1 = plt.pcolor(X,Y, afterhistback,\n",
    "#                 vmin=setvmin, vmax=setvmax\n",
    "                norm=LogNorm(vmin=setvmin, vmax=setvmax)\n",
    "               )\n",
    "plt.text(0.5,0.9, 'Background after cut', ha='center')\n",
    "cbar1=plt.colorbar(c1)\n",
    "plt.xlabel(r'$m^2_{AB}$')\n",
    "plt.ylabel(r'$m^2_{AC}$')\n",
    "\n",
    "plt.suptitle('uBoost', y=0.95, fontsize=16)\n",
    "plt.show()"
   ]
  },
  {
   "cell_type": "code",
   "execution_count": 18,
   "metadata": {
    "collapsed": false
   },
   "outputs": [
    {
     "data": {
      "image/png": "[encoded data removed]",
      "text/plain": [
       "<Figure size 720x576 with 6 Axes>"
      ]
     },
     "metadata": {},
     "output_type": "display_data"
    }
   ],
   "source": [
    "afterhist_a, sigx, sigy = np.histogram2d(cut_testX_a[cut_testY_a==1]['M2AB'],\n",
    "                                         cut_testX_a[cut_testY_a==1]['M2AC'],\n",
    "#                                        normed=True,\n",
    "                                       bins=[np.linspace(0,1,21), np.linspace(0,1,21)]\n",
    "                                    )\n",
    "afterhist_a = afterhist_a.T\n",
    "\n",
    "\n",
    "afterhistback_a, sigx, sigy = np.histogram2d(cut_testX_a[cut_testY_a==0]['M2AB'],\n",
    "                                             cut_testX_a[cut_testY_a==0]['M2AC'],\n",
    "                                             #                                        normed=True,\n",
    "                                           bins=[np.linspace(0,1,21), np.linspace(0,1,21)]\n",
    "                                    )\n",
    "afterhistback_a = afterhistback_a.T\n",
    "\n",
    "setvmax = max(np.max(beforehist), np.max(afterhist))\n",
    "setvmin = min(np.min(beforehist[beforehist > 0]), np.min(afterhist[afterhist > 0]))\n",
    "X, Y = np.meshgrid(sigx, sigy)\n",
    "\n",
    "#********************\n",
    "# Frame\n",
    "#********************\n",
    "\n",
    "plt.figure(figsize=(10, 8))\n",
    "gs1 = gs.GridSpec(2,2, width_ratios=[4,4.6], wspace=0.4, hspace=0.3)\n",
    "\n",
    "#********************\n",
    "# Before\n",
    "#********************\n",
    "ax1 = plt.subplot(gs1[0])\n",
    "plt.pcolor(X, Y, beforehist,\n",
    "#            vmin=setvmin, vmax=setvmax\n",
    "           norm=LogNorm(vmin=setvmin, vmax=setvmax)\n",
    "          )\n",
    "plt.text(0.5,0.9, 'Signal before cut', ha='center')\n",
    "plt.xlabel(r'$m^2_{AB}$')\n",
    "plt.ylabel(r'$m^2_{AC}$')\n",
    "\n",
    "#********************\n",
    "# After\n",
    "#********************\n",
    "plt.subplot(gs1[1])\n",
    "c1 = plt.pcolor(X,Y, afterhist_a,\n",
    "#                 vmin=setvmin, vmax=setvmax\n",
    "                norm=LogNorm(vmin=setvmin, vmax=setvmax)\n",
    "               )\n",
    "plt.text(0.5,0.9, 'Signal after cut', ha='center')\n",
    "cbar1=plt.colorbar(c1)\n",
    "plt.xlabel(r'$m^2_{AB}$')\n",
    "plt.ylabel(r'$m^2_{AC}$')\n",
    "\n",
    "#********************\n",
    "# Before\n",
    "#********************\n",
    "ax1 = plt.subplot(gs1[2])\n",
    "plt.pcolor(X, Y, beforehistback,\n",
    "#            vmin=setvmin, vmax=setvmax\n",
    "           norm=LogNorm(vmin=setvmin, vmax=setvmax)\n",
    "          )\n",
    "plt.text(0.5,0.9, 'Background before cut', ha='center')\n",
    "plt.xlabel(r'$m^2_{AB}$')\n",
    "plt.ylabel(r'$m^2_{AC}$')\n",
    "\n",
    "#********************\n",
    "# After\n",
    "#********************\n",
    "plt.subplot(gs1[3])\n",
    "c1 = plt.pcolor(X,Y, afterhistback_a,\n",
    "#                 vmin=setvmin, vmax=setvmax\n",
    "                norm=LogNorm(vmin=setvmin, vmax=setvmax)\n",
    "               )\n",
    "plt.text(0.5,0.9, 'Background after cut', ha='center')\n",
    "cbar1=plt.colorbar(c1)\n",
    "plt.xlabel(r'$m^2_{AB}$')\n",
    "plt.ylabel(r'$m^2_{AC}$')\n",
    "\n",
    "plt.suptitle('AdaBoost', y=0.95, fontsize=16)\n",
    "plt.show()"
   ]
  },
  {
   "cell_type": "code",
   "execution_count": 19,
   "metadata": {
    "collapsed": true
   },
   "outputs": [],
   "source": [
    "mycolors = [(.8, 0, 0), (1,1,1), (0, 0, 0.8)] \n",
    "nbins = 101\n",
    "cmap_name = 'mycmap'\n",
    "mycm = colors.LinearSegmentedColormap.from_list(cmap_name, mycolors, nbins)"
   ]
  },
  {
   "cell_type": "code",
   "execution_count": 20,
   "metadata": {
    "collapsed": false
   },
   "outputs": [
    {
     "data": {
      "image/png": "[encoded data removed]",
      "text/plain": [
       "<Figure size 720x576 with 3 Axes>"
      ]
     },
     "metadata": {},
     "output_type": "display_data"
    },
    {
     "name": "stdout",
     "output_type": "stream",
     "text": [
      "The total difference in uBoost - AdaBoost for epsilon_s=0.7 is -3.0\n",
      "Background Diff: uBoost - AdaBoost for epsilon_s=0.7 is 296.0\n"
     ]
    }
   ],
   "source": [
    "setvmax = np.max(afterhist - afterhist_a)\n",
    "setvmin = -setvmax\n",
    "X, Y = np.meshgrid(sigx, sigy)\n",
    "\n",
    "#********************\n",
    "# Frame\n",
    "#********************\n",
    "plt.figure(figsize=(10, 8))\n",
    "gs1 = gs.GridSpec(2,2, width_ratios=[4,4.6], wspace=0.4, hspace=0.3)\n",
    "\n",
    "#********************\n",
    "# Before\n",
    "#********************\n",
    "ax1 = plt.subplot(gs1[0])\n",
    "plt.pcolor(X, Y, afterhist - afterhist_a,\n",
    "           vmin=setvmin, vmax=setvmax, cmap=mycm,\n",
    "#            norm=LogNorm(vmin=setvmin, vmax=setvmax)\n",
    "          )\n",
    "plt.text(0.5,0.9, '(uBoost - AdaBoost)', ha='center')\n",
    "plt.xlabel(r'$m^2_{AB}$')\n",
    "plt.ylabel(r'$m^2_{AC}$')\n",
    "plt.title('Signal')\n",
    "\n",
    "#********************\n",
    "# Before\n",
    "#********************\n",
    "ax1 = plt.subplot(gs1[1])\n",
    "c1 = plt.pcolor(X, Y, afterhistback - afterhistback_a,\n",
    "           vmin=setvmin, vmax=setvmax, cmap=mycm,\n",
    "#            norm=LogNorm(vmin=setvmin, vmax=setvmax)\n",
    "          )\n",
    "plt.text(0.5,0.9, '(uBoost - AdaBoost)', ha='center')\n",
    "plt.xlabel(r'$m^2_{AB}$')\n",
    "plt.ylabel(r'$m^2_{AC}$')\n",
    "cbar1=plt.colorbar(c1)\n",
    "plt.title('Background')\n",
    "\n",
    "plt.show()\n",
    "\n",
    "diff = np.sum(afterhist) - np.sum(afterhist_a)\n",
    "diff_b = np.sum(afterhistback) - np.sum(afterhistback_a)\n",
    "print 'The total difference in uBoost - AdaBoost for epsilon_s=0.7 is {}'.format(diff)\n",
    "print 'Background Diff: uBoost - AdaBoost for epsilon_s=0.7 is {}'.format(diff_b)"
   ]
  },
  {
   "cell_type": "markdown",
   "metadata": {},
   "source": [
    "By comparing the signal regions in the uBoost - AdaBoost samples, we see that uBoost keeps more events in the corners, while AdaBoost keeps more events in the central regions. This happens because AdaBoost removes more events in the corners (where the background is larger).\n",
    "\n",
    "Now that we have seen a little about how uBoost works, let us go through the 'Learning to Pivot' toy model.\n",
    "\n",
    "# Learning to pivot example"
   ]
  },
  {
   "cell_type": "markdown",
   "metadata": {},
   "source": [
    "The toy model for this paper looks at separating to normal distributions, when there is a systematic that should be flattened."
   ]
  },
  {
   "cell_type": "markdown",
   "metadata": {},
   "source": [
    "## Prepare data"
   ]
  },
  {
   "cell_type": "code",
   "execution_count": 21,
   "metadata": {
    "collapsed": false
   },
   "outputs": [
    {
     "name": "stdout",
     "output_type": "stream",
     "text": [
      "125000 125000 125000\n"
     ]
    }
   ],
   "source": [
    "nsamples = 125000\n",
    "X0 = np.random.multivariate_normal([0, 0],  # means\n",
    "                                   [[1.0, -0.5],\n",
    "                                    [-0.5, 1.0]\n",
    "                                   ],  # covariance\n",
    "                                   nsamples / 2\n",
    "                                  )\n",
    "X1 = np.random.multivariate_normal([1., 1.],  # means\n",
    "                                   [[1.0, 0],[0,1.0]],  # covariance\n",
    "                                   nsamples / 2\n",
    "                                  )\n",
    "z = np.random.normal(0, 1, nsamples) \n",
    "X1[:, 1] += z[nsamples / 2 :]\n",
    "\n",
    "X = np.vstack([X0, X1])\n",
    "y = np.zeros(nsamples)\n",
    "y[nsamples / 2 :] = 1\n",
    "print len(X), len(y), len(z)"
   ]
  },
  {
   "cell_type": "code",
   "execution_count": 22,
   "metadata": {
    "collapsed": false
   },
   "outputs": [
    {
     "data": {
      "image/png": "[encoded data removed]",
      "text/plain": [
       "<Figure size 288x288 with 1 Axes>"
      ]
     },
     "metadata": {},
     "output_type": "display_data"
    }
   ],
   "source": [
    "plt.figure(figsize=(4,4))\n",
    "plt.title(\"$X$\")\n",
    "plt.scatter(X[y==0, 0], X[y==0, 1], c=\"r\", marker=\"o\", edgecolors=\"none\")\n",
    "plt.scatter(X[y==1, 0], X[y==1, 1], c=\"b\", marker=\"o\", edgecolors=\"none\")\n",
    "plt.xlim(-4, 4)\n",
    "plt.ylim(-4, 4)\n",
    "plt.show()"
   ]
  },
  {
   "cell_type": "code",
   "execution_count": 23,
   "metadata": {
    "collapsed": false
   },
   "outputs": [],
   "source": [
    "Xp_train, Xp_valid, yp_train, yp_valid, zp_train, zp_valid = train_test_split(X, y, z, test_size=50000)"
   ]
  },
  {
   "cell_type": "markdown",
   "metadata": {},
   "source": [
    "## Set network architecture"
   ]
  },
  {
   "cell_type": "code",
   "execution_count": 24,
   "metadata": {
    "collapsed": false
   },
   "outputs": [
    {
     "name": "stderr",
     "output_type": "stream",
     "text": [
      "Using TensorFlow backend.\n"
     ]
    },
    {
     "name": "stdout",
     "output_type": "stream",
     "text": [
      "Couldn't import dot_parser, loading of dot files will not be possible.\n"
     ]
    },
    {
     "name": "stderr",
     "output_type": "stream",
     "text": [
      "/Users/bryan/anaconda/lib/python2.7/site-packages/ipykernel/__main__.py:9: UserWarning: Update your `Model` call to the Keras 2 API: `Model(outputs=[<tf.Tenso..., inputs=[<tf.Tenso...)`\n",
      "/Users/bryan/anaconda/lib/python2.7/site-packages/ipykernel/__main__.py:18: UserWarning: The `Merge` layer is deprecated and will be removed after 08/2017. Use instead layers from `keras.layers.merge`, e.g. `add`, `concatenate`, etc.\n",
      "/Users/bryan/anaconda/lib/python2.7/site-packages/ipykernel/__main__.py:20: UserWarning: Update your `Model` call to the Keras 2 API: `Model(outputs=[<tf.Tenso..., inputs=[<tf.Tenso...)`\n"
     ]
    }
   ],
   "source": [
    "import keras.backend as K\n",
    "from keras.layers import Input, Dense, Merge, Lambda\n",
    "from keras.models import Model\n",
    "\n",
    "inputs = Input(shape=(X.shape[1],))\n",
    "Dx = Dense(20, activation=\"tanh\")(inputs)\n",
    "Dx = Dense(20, activation=\"relu\")(Dx)\n",
    "Dx = Dense(1, activation=\"sigmoid\")(Dx)\n",
    "D = Model(inputs=[inputs], outputs=[Dx])\n",
    "\n",
    "n_components = 5\n",
    "Rx = D(inputs)\n",
    "Rx = Dense(20, activation=\"relu\")(Rx)\n",
    "Rx = Dense(20, activation=\"relu\")(Rx)\n",
    "mu = Dense(n_components, activation=\"linear\")(Rx)\n",
    "sigma = Dense(n_components, activation=K.exp)(Rx)\n",
    "pi = Dense(n_components, activation=\"softmax\")(Rx)\n",
    "Rx = Merge(mode=\"concat\")([mu, sigma, pi])\n",
    "\n",
    "R = Model(inputs=[inputs], outputs=[Rx])"
   ]
  },
  {
   "cell_type": "code",
   "execution_count": 25,
   "metadata": {
    "collapsed": false
   },
   "outputs": [
    {
     "name": "stderr",
     "output_type": "stream",
     "text": [
      "/Users/bryan/anaconda/lib/python2.7/site-packages/ipykernel/__main__.py:36: UserWarning: Update your `Model` call to the Keras 2 API: `Model(outputs=[<tf.Tenso..., inputs=[<tf.Tenso...)`\n",
      "/Users/bryan/anaconda/lib/python2.7/site-packages/ipykernel/__main__.py:42: UserWarning: Update your `Model` call to the Keras 2 API: `Model(outputs=[<tf.Tenso..., inputs=[<tf.Tenso...)`\n"
     ]
    }
   ],
   "source": [
    "from keras.optimizers import adam, SGD\n",
    "import keras.backend as K\n",
    "\n",
    "lam = 50.0 \n",
    "\n",
    "def make_loss_D(c):\n",
    "    def loss_D(y_true, y_pred):\n",
    "        return c * K.binary_crossentropy(y_true, y_pred)\n",
    "    return loss_D\n",
    "\n",
    "def make_loss_R(lam, n_components):\n",
    "    def loss(y_true, y_pred):\n",
    "        y_true = K.flatten(y_true)\n",
    "        \n",
    "        mu = y_pred[:, :n_components]\n",
    "        sigma = y_pred[:, n_components:2*n_components]\n",
    "        pi = y_pred[:, 2*n_components:]\n",
    "        \n",
    "        pdf = pi[:, 0] * ((1. / np.sqrt(2. * np.pi)) / sigma[:, 0] *\n",
    "                          K.exp(-(y_true - mu[:, 0]) ** 2 / (2. * sigma[:, 0] ** 2)))\n",
    "        \n",
    "        for c in range(1, n_components):\n",
    "            pdf += pi[:, c] * ((1. / np.sqrt(2. * np.pi)) / sigma[:, c] *\n",
    "                               K.exp(-(y_true - mu[:, c]) ** 2 / (2. * sigma[:, c] ** 2)))\n",
    "            \n",
    "        nll = -K.log(pdf)\n",
    "        \n",
    "        return lam * K.mean(nll)\n",
    "    \n",
    "    return loss\n",
    "\n",
    "opt_D = adam()\n",
    "D.compile(loss=[make_loss_D(c=1.0)], optimizer=opt_D)\n",
    "\n",
    "opt_DRf = SGD()\n",
    "DRf = Model(inputs=[inputs], outputs=[D(inputs), R(inputs)])\n",
    "DRf.compile(loss=[make_loss_D(c=1.0), \n",
    "                  make_loss_R(-lam, n_components)],   \n",
    "            optimizer=opt_DRf)\n",
    "\n",
    "opt_DfR = SGD()\n",
    "DfR = Model(inputs=[inputs], outputs=[R(inputs)])\n",
    "DfR.compile(loss=[make_loss_R(1.0, n_components)], \n",
    "            optimizer=opt_DfR)"
   ]
  },
  {
   "cell_type": "code",
   "execution_count": 26,
   "metadata": {
    "collapsed": false
   },
   "outputs": [
    {
     "name": "stdout",
     "output_type": "stream",
     "text": [
      "__________________________________________________________________________________________________\n",
      "Layer (type)                    Output Shape         Param #     Connected to                     \n",
      "==================================================================================================\n",
      "input_1 (InputLayer)            (None, 2)            0                                            \n",
      "__________________________________________________________________________________________________\n",
      "model_1 (Model)                 (None, 1)            501         input_1[0][0]                    \n",
      "__________________________________________________________________________________________________\n",
      "model_2 (Model)                 (None, 15)           1276        input_1[0][0]                    \n",
      "==================================================================================================\n",
      "Total params: 1,276\n",
      "Trainable params: 1,276\n",
      "Non-trainable params: 0\n",
      "__________________________________________________________________________________________________\n"
     ]
    }
   ],
   "source": [
    "DRf.summary()"
   ]
  },
  {
   "cell_type": "code",
   "execution_count": 27,
   "metadata": {
    "collapsed": false
   },
   "outputs": [
    {
     "name": "stdout",
     "output_type": "stream",
     "text": [
      "_________________________________________________________________\n",
      "Layer (type)                 Output Shape              Param #   \n",
      "=================================================================\n",
      "input_1 (InputLayer)         (None, 2)                 0         \n",
      "_________________________________________________________________\n",
      "model_2 (Model)              (None, 15)                1276      \n",
      "=================================================================\n",
      "Total params: 1,276\n",
      "Trainable params: 1,276\n",
      "Non-trainable params: 0\n",
      "_________________________________________________________________\n"
     ]
    }
   ],
   "source": [
    "DfR.summary()"
   ]
  },
  {
   "cell_type": "markdown",
   "metadata": {},
   "source": [
    "## Pretraing without adversary"
   ]
  },
  {
   "cell_type": "code",
   "execution_count": 28,
   "metadata": {
    "collapsed": false
   },
   "outputs": [
    {
     "name": "stdout",
     "output_type": "stream",
     "text": [
      "Epoch 1/20\n",
      "75000/75000 [==============================] - 1s 18us/step - loss: 0.5991\n",
      "Epoch 2/20\n",
      "75000/75000 [==============================] - 0s 3us/step - loss: 0.4819\n",
      "Epoch 3/20\n",
      "75000/75000 [==============================] - 0s 3us/step - loss: 0.4623\n",
      "Epoch 4/20\n",
      "75000/75000 [==============================] - 0s 3us/step - loss: 0.4574\n",
      "Epoch 5/20\n",
      "75000/75000 [==============================] - 0s 3us/step - loss: 0.4558\n",
      "Epoch 6/20\n",
      "75000/75000 [==============================] - 0s 3us/step - loss: 0.4551\n",
      "Epoch 7/20\n",
      "75000/75000 [==============================] - 0s 3us/step - loss: 0.4547\n",
      "Epoch 8/20\n",
      "75000/75000 [==============================] - 0s 3us/step - loss: 0.4545\n",
      "Epoch 9/20\n",
      "75000/75000 [==============================] - 0s 3us/step - loss: 0.4542\n",
      "Epoch 10/20\n",
      "75000/75000 [==============================] - 0s 4us/step - loss: 0.4538\n",
      "Epoch 11/20\n",
      "75000/75000 [==============================] - 0s 3us/step - loss: 0.4534\n",
      "Epoch 12/20\n",
      "75000/75000 [==============================] - 0s 4us/step - loss: 0.4532\n",
      "Epoch 13/20\n",
      "75000/75000 [==============================] - 0s 3us/step - loss: 0.4530\n",
      "Epoch 14/20\n",
      "75000/75000 [==============================] - 0s 3us/step - loss: 0.4526\n",
      "Epoch 15/20\n",
      "75000/75000 [==============================] - 0s 3us/step - loss: 0.4524\n",
      "Epoch 16/20\n",
      "75000/75000 [==============================] - 0s 3us/step - loss: 0.4522\n",
      "Epoch 17/20\n",
      "75000/75000 [==============================] - 0s 4us/step - loss: 0.4520\n",
      "Epoch 18/20\n",
      "75000/75000 [==============================] - 0s 4us/step - loss: 0.4518\n",
      "Epoch 19/20\n",
      "75000/75000 [==============================] - 0s 3us/step - loss: 0.4516\n",
      "Epoch 20/20\n",
      "75000/75000 [==============================] - 0s 3us/step - loss: 0.4514\n",
      "50000/50000 [==============================] - 1s 25us/step\n"
     ]
    }
   ],
   "source": [
    "# Pretraining of D\n",
    "D.trainable = True\n",
    "R.trainable = False\n",
    "D.fit(Xp_train, yp_train, epochs=20, batch_size=1000)\n",
    "min_Lf = D.evaluate(Xp_valid, yp_valid)"
   ]
  },
  {
   "cell_type": "code",
   "execution_count": 29,
   "metadata": {
    "collapsed": false
   },
   "outputs": [],
   "source": [
    "def make_X(n_samples, z):\n",
    "    x0 = np.random.multivariate_normal([0, 0],  # means\n",
    "                                       [[1.0, -0.5],\n",
    "                                        [-0.5, 1.0]\n",
    "                                       ],  # covariance\n",
    "                                       n_samples / 2\n",
    "                                  )\n",
    "    x1 = np.random.multivariate_normal([1., 1.],  # means\n",
    "                                       [[1.0, 0],[0,1.0]],  # covariance\n",
    "                                       n_samples / 2\n",
    "                                  )\n",
    "    x1[:, 1] += z\n",
    "    xout = np.vstack([x0, x1])\n",
    "    yout = np.zeros(n_samples)\n",
    "    yout[n_samples // 2:] = 1\n",
    "    return xout"
   ]
  },
  {
   "cell_type": "code",
   "execution_count": 30,
   "metadata": {
    "collapsed": false
   },
   "outputs": [
    {
     "data": {
      "image/png": "[encoded data removed]",
      "text/plain": [
       "<Figure size 432x432 with 1 Axes>"
      ]
     },
     "metadata": {},
     "output_type": "display_data"
    }
   ],
   "source": [
    "plt.figure(figsize=(6,6))\n",
    "plt.hist(D.predict(make_X(200000, z=-1)), bins=50, color='C0', density=1, histtype=\"step\")\n",
    "plt.hist(D.predict(make_X(200000, z=0)), bins=50, color='C1', density=1, histtype=\"step\")\n",
    "plt.hist(D.predict(make_X(200000, z=1)), bins=50, color='C2', density=1, histtype=\"step\")\n",
    "\n",
    "plt.plot([],[], color='C0', label=\"$p(f(X)|Z=-\\sigma)$\")\n",
    "plt.plot([],[], color='C1', label=\"$p(f(X)|Z=0)$\")\n",
    "plt.plot([],[], color='C2', label=\"$p(f(X)|Z=+\\sigma)$\")\n",
    "plt.legend(loc=\"best\")\n",
    "\n",
    "plt.ylim(0,4)\n",
    "plt.xlabel(\"$f(X)$\")\n",
    "plt.ylabel(\"$p(f(X))$\")\n",
    "plt.grid()\n",
    "plt.legend(loc=\"upper left\",)\n",
    "plt.show()"
   ]
  },
  {
   "cell_type": "markdown",
   "metadata": {},
   "source": [
    "## Adverserial training of f and r"
   ]
  },
  {
   "cell_type": "code",
   "execution_count": 31,
   "metadata": {
    "collapsed": false
   },
   "outputs": [
    {
     "name": "stdout",
     "output_type": "stream",
     "text": [
      "Epoch 1/20\n",
      "75000/75000 [==============================] - 16s 220us/step - loss: 1.4060\n",
      "Epoch 2/20\n",
      "75000/75000 [==============================] - 16s 208us/step - loss: 1.3881\n",
      "Epoch 3/20\n",
      "75000/75000 [==============================] - 16s 210us/step - loss: 1.3794\n",
      "Epoch 4/20\n",
      "75000/75000 [==============================] - 15s 201us/step - loss: 1.3760\n",
      "Epoch 5/20\n",
      "75000/75000 [==============================] - 15s 203us/step - loss: 1.3741\n",
      "Epoch 6/20\n",
      "75000/75000 [==============================] - 15s 198us/step - loss: 1.3729\n",
      "Epoch 7/20\n",
      "75000/75000 [==============================] - 16s 207us/step - loss: 1.3717\n",
      "Epoch 8/20\n",
      "75000/75000 [==============================] - 15s 201us/step - loss: 1.3706\n",
      "Epoch 9/20\n",
      "75000/75000 [==============================] - 15s 204us/step - loss: 1.3696\n",
      "Epoch 10/20\n",
      "75000/75000 [==============================] - 15s 206us/step - loss: 1.3690\n",
      "Epoch 11/20\n",
      "75000/75000 [==============================] - 15s 199us/step - loss: 1.3682\n",
      "Epoch 12/20\n",
      "75000/75000 [==============================] - 15s 200us/step - loss: 1.3677\n",
      "Epoch 13/20\n",
      "75000/75000 [==============================] - 17s 230us/step - loss: 1.3671\n",
      "Epoch 14/20\n",
      "75000/75000 [==============================] - 16s 211us/step - loss: 1.3666\n",
      "Epoch 15/20\n",
      "75000/75000 [==============================] - 15s 203us/step - loss: 1.3663\n",
      "Epoch 16/20\n",
      "75000/75000 [==============================] - 15s 205us/step - loss: 1.3657\n",
      "Epoch 17/20\n",
      "75000/75000 [==============================] - 16s 217us/step - loss: 1.3655\n",
      "Epoch 18/20\n",
      "75000/75000 [==============================] - 15s 202us/step - loss: 1.3651\n",
      "Epoch 19/20\n",
      "75000/75000 [==============================] - 17s 227us/step - loss: 1.3645\n",
      "Epoch 20/20\n",
      "75000/75000 [==============================] - 17s 226us/step - loss: 1.3644\n"
     ]
    },
    {
     "data": {
      "text/plain": [
       "<keras.callbacks.History at 0x1274f0a90>"
      ]
     },
     "execution_count": 31,
     "metadata": {},
     "output_type": "execute_result"
    }
   ],
   "source": [
    "# Pretraining of R\n",
    "D.trainable = False\n",
    "R.trainable = True\n",
    "DfR.compile(loss=[make_loss_R(1.0, n_components)], \n",
    "            optimizer=opt_DfR)\n",
    "DfR.fit(Xp_train, zp_train, epochs=20) #, batch_size=1000)"
   ]
  },
  {
   "cell_type": "code",
   "execution_count": 32,
   "metadata": {
    "collapsed": true
   },
   "outputs": [],
   "source": [
    "from IPython import display\n",
    "\n",
    "min_Lr = np.log(1 * (2. * np.pi * np.e) ** 0.5)\n",
    "\n",
    "def plot_losses(i, losses):\n",
    "    display.clear_output(wait=True)\n",
    "    display.display(plt.gcf())\n",
    "\n",
    "    ax1 = plt.subplot(311)   \n",
    "    values = np.array(losses[\"L_f\"])\n",
    "    plt.plot(range(len(values)), values, label=r\"$L_f$\", color=\"blue\")\n",
    "    plt.legend(loc=\"upper right\")\n",
    "    \n",
    "    ax2 = plt.subplot(312, sharex=ax1) \n",
    "    values = np.array(losses[\"L_r\"]) / lam\n",
    "    plt.plot(range(len(values)), values, label=r\"$L_r$\", color=\"green\")\n",
    "    plt.legend(loc=\"upper right\")\n",
    "    \n",
    "    ax3 = plt.subplot(313, sharex=ax1)\n",
    "    values = np.array(losses[\"L_f - L_r\"])\n",
    "    plt.plot(range(len(values)), values, label=r\"$L_f - \\lambda L_r$\", color=\"red\")  \n",
    "    plt.legend(loc=\"upper right\")\n",
    "    \n",
    "    plt.tight_layout() \n",
    "    plt.show()"
   ]
  },
  {
   "cell_type": "code",
   "execution_count": 33,
   "metadata": {
    "collapsed": true
   },
   "outputs": [],
   "source": [
    "losses = {\"L_f\": [], \"L_r\": [], \"L_f - L_r\": []}"
   ]
  },
  {
   "cell_type": "code",
   "execution_count": 34,
   "metadata": {
    "collapsed": false
   },
   "outputs": [
    {
     "data": {
      "text/plain": [
       "<Figure size 432x288 with 0 Axes>"
      ]
     },
     "metadata": {},
     "output_type": "display_data"
    },
    {
     "data": {
      "image/png": "[encoded data removed]",
      "text/plain": [
       "<Figure size 432x288 with 3 Axes>"
      ]
     },
     "metadata": {},
     "output_type": "display_data"
    },
    {
     "name": "stdout",
     "output_type": "stream",
     "text": [
      "Epoch 1/1\n",
      "75000/75000 [==============================] - 54s 715us/step - loss: 1.4186\n"
     ]
    }
   ],
   "source": [
    "batch_size = 128\n",
    "\n",
    "for i in range(201):\n",
    "    l = DRf.evaluate(Xp_valid, [yp_valid, zp_valid], verbose=0)    \n",
    "    losses[\"L_f - L_r\"].append(l[0][None][0])\n",
    "    losses[\"L_f\"].append(l[1][None][0])\n",
    "    losses[\"L_r\"].append(-l[2][None][0])\n",
    "    print(losses[\"L_r\"][-1] / lam)\n",
    "    \n",
    "    if i % 5 == 0:\n",
    "        plot_losses(i, losses)\n",
    "\n",
    "    # Fit D\n",
    "    D.trainable = True\n",
    "    R.trainable = False\n",
    "    indices = np.random.permutation(len(Xp_train))[:batch_size]\n",
    "    DRf.compile(loss=[make_loss_D(c=1.0),\n",
    "                      make_loss_R(-lam, n_components)],\n",
    "                optimizer=opt_DRf)\n",
    "    DRf.train_on_batch(Xp_train[indices], [yp_train[indices], zp_train[indices]])\n",
    "        \n",
    "    # Fit R\n",
    "    D.trainable = False\n",
    "    R.trainable = True\n",
    "    DfR.compile(loss=[make_loss_R(1.0, n_components)],\n",
    "                optimizer=opt_DfR)\n",
    "    DfR.fit(Xp_train, zp_train, batch_size=batch_size, epochs=1, verbose=1)\n",
    "\n",
    "#     for j in range(200):\n",
    "#         indices = np.random.permutation(len(X_train))\n",
    "#         DfR.train_on_batch(X_train[indices], z_train[indices])"
   ]
  },
  {
   "cell_type": "code",
   "execution_count": 35,
   "metadata": {
    "collapsed": false
   },
   "outputs": [
    {
     "name": "stderr",
     "output_type": "stream",
     "text": [
      "/Users/bryan/anaconda/lib/python2.7/site-packages/matplotlib/axes/_axes.py:6462: UserWarning: The 'normed' kwarg is deprecated, and has been replaced by the 'density' kwarg.\n",
      "  warnings.warn(\"The 'normed' kwarg is deprecated, and has been \"\n"
     ]
    },
    {
     "data": {
      "image/png": "[encoded data removed]",
      "text/plain": [
       "<Figure size 432x288 with 1 Axes>"
      ]
     },
     "metadata": {},
     "output_type": "display_data"
    }
   ],
   "source": [
    "plt.hist(D.predict(make_X(200000, z=-1)), bins=50, density=1, histtype=\"step\", label=\"$p(f(X)|Z=-\\sigma)$\")\n",
    "plt.hist(D.predict(make_X(200000, z=0)), bins=50, density=1, histtype=\"step\", label=\"$p(f(X)|Z=0)$\")\n",
    "plt.hist(D.predict(make_X(200000, z=1)), bins=50, density=1, histtype=\"step\", label=\"$p(f(X)|Z=+\\sigma)$\")\n",
    "plt.legend(loc=\"best\")\n",
    "plt.ylim(0,4)\n",
    "plt.xlabel(\"$f(X)$\")\n",
    "plt.ylabel(\"$p(f(X))$\")\n",
    "plt.grid()\n",
    "plt.legend(loc=\"upper left\")\n",
    "plt.savefig(\"f-adversary.pdf\")\n",
    "plt.show()"
   ]
  },
  {
   "cell_type": "code",
   "execution_count": null,
   "metadata": {
    "collapsed": true
   },
   "outputs": [],
   "source": []
  }
 ],
 "metadata": {
  "anaconda-cloud": {},
  "kernelspec": {
   "display_name": "Python [default]",
   "language": "python",
   "name": "python2"
  },
  "language_info": {
   "codemirror_mode": {
    "name": "ipython",
    "version": 2
   },
   "file_extension": ".py",
   "mimetype": "text/x-python",
   "name": "python",
   "nbconvert_exporter": "python",
   "pygments_lexer": "ipython2",
   "version": "2.7.12"
  },
  "toc": {
   "colors": {
    "hover_highlight": "#DAA520",
    "navigate_num": "#000000",
    "navigate_text": "#333333",
    "running_highlight": "#FF0000",
    "selected_highlight": "#FFD700",
    "sidebar_border": "#EEEEEE",
    "wrapper_background": "#FFFFFF"
   },
   "moveMenuLeft": true,
   "nav_menu": {
    "height": "102px",
    "width": "252px"
   },
   "navigate_menu": true,
   "number_sections": true,
   "sideBar": true,
   "threshold": 4,
   "toc_cell": true,
   "toc_position": {
    "height": "486px",
    "left": "0px",
    "right": "1067px",
    "top": "106px",
    "width": "173px"
   },
   "toc_section_display": "block",
   "toc_window_display": true,
   "widenNotebook": false
  }
 },
 "nbformat": 4,
 "nbformat_minor": 1
}
